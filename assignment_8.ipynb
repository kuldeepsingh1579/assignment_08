{
 "cells": [
  {
   "cell_type": "markdown",
   "id": "888041af-60e9-4159-98d7-98f4dc439e58",
   "metadata": {},
   "source": [
    "              --- Assignment-08----\n",
    "              Question No.1"
   ]
  },
  {
   "cell_type": "code",
   "execution_count": 10,
   "id": "26c142e3-d196-4160-bf84-ef1eed5b0feb",
   "metadata": {},
   "outputs": [],
   "source": [
    "import re\n",
    "\n",
    "def check_password(password):\n",
    "  \n",
    "    if len(password) != 10:\n",
    "        return \"Invalid Password\"\n",
    "    \n",
    "    \n",
    "    uppercase_count = sum(1 for char in password if char.isupper())\n",
    "    lowercase_count = sum(1 for char in password if char.islower())\n",
    "    \n",
    " \n",
    "    if uppercase_count < 2 or lowercase_count < 2:\n",
    "        return \"Invalid Password\"\n",
    "    \n",
    "\n",
    "    if not re.search(r'\\d', password) or len(re.findall(r'[^a-zA-Z0-9]', password)) < 3:\n",
    "        return \"Invalid Password\"\n",
    "    \n",
    "    return \"Valid Password\""
   ]
  },
  {
   "cell_type": "code",
   "execution_count": 16,
   "id": "b8062c3b-2410-4650-823c-4fd98ec6666b",
   "metadata": {},
   "outputs": [
    {
     "name": "stdout",
     "output_type": "stream",
     "text": [
      "Invalid Password\n"
     ]
    }
   ],
   "source": [
    "password2 = \"Kuldep@2\"\n",
    "result =check_password(password2)\n",
    "print(result)"
   ]
  },
  {
   "cell_type": "markdown",
   "id": "df5d2ed6-5823-4b35-9880-b2b5dca0886e",
   "metadata": {},
   "source": [
    "----- Question No.2-----"
   ]
  },
  {
   "cell_type": "code",
   "execution_count": 26,
   "id": "ff8bce2a-f26a-4b7e-8dca-030601a2bced",
   "metadata": {},
   "outputs": [],
   "source": [
    "l=list(range(1,11))"
   ]
  },
  {
   "cell_type": "code",
   "execution_count": 34,
   "id": "8d56c300-2eaf-4963-9951-917b9a90487c",
   "metadata": {},
   "outputs": [
    {
     "data": {
      "text/plain": [
       "[1, 4, 9, 16, 25, 36, 49, 64, 81, 100]"
      ]
     },
     "execution_count": 34,
     "metadata": {},
     "output_type": "execute_result"
    }
   ],
   "source": [
    "list(map(lambda x: x**2 ,l))"
   ]
  },
  {
   "cell_type": "code",
   "execution_count": 36,
   "id": "a4cc1eb8-7e22-4c06-a727-0931314b45bc",
   "metadata": {},
   "outputs": [
    {
     "data": {
      "text/plain": [
       "[1, 4, 27, 256, 3125, 46656, 823543, 16777216, 387420489, 10000000000]"
      ]
     },
     "execution_count": 36,
     "metadata": {},
     "output_type": "execute_result"
    }
   ],
   "source": [
    "list(map(lambda x: x**x ,l))"
   ]
  },
  {
   "cell_type": "code",
   "execution_count": 37,
   "id": "f22ecf38-6177-443f-a6aa-149c920083ae",
   "metadata": {},
   "outputs": [
    {
     "name": "stdin",
     "output_type": "stream",
     "text": [
      "enter the number: 5\n"
     ]
    },
    {
     "name": "stdout",
     "output_type": "stream",
     "text": [
      "number is not even\n"
     ]
    }
   ],
   "source": [
    "n=int(input(\"enter the number:\"))\n",
    "if n%2==0:\n",
    "    print(\"number is even\")\n",
    "else:\n",
    "    print(\"number is not even\")"
   ]
  },
  {
   "cell_type": "code",
   "execution_count": 40,
   "id": "d2d20413-1382-48a4-9c53-7f741b7331fb",
   "metadata": {},
   "outputs": [
    {
     "data": {
      "text/plain": [
       "[1, 3, 5, 7, 9]"
      ]
     },
     "execution_count": 40,
     "metadata": {},
     "output_type": "execute_result"
    }
   ],
   "source": [
    "l1=[1,2,3,4,5,6,7,8,9,10]\n",
    "list(filter(lambda x: x%2!=0 ,l))"
   ]
  },
  {
   "cell_type": "code",
   "execution_count": 64,
   "id": "50c80ed1-571e-45c9-8fa4-581a6b5b8d68",
   "metadata": {},
   "outputs": [
    {
     "data": {
      "text/plain": [
       "([-1, -2, -3, -4, -5], [1, 2, 3, 4, 5, 6, 0])"
      ]
     },
     "execution_count": 64,
     "metadata": {},
     "output_type": "execute_result"
    }
   ],
   "source": [
    "l3=[1,2,3,4,5,6,-1,-2,-3,-4,-5,0]\n",
    "l4=[]\n",
    "l5=[]\n",
    "for i in l3:\n",
    "    if i<0:\n",
    "        l4.append(i)     \n",
    "    else:\n",
    "        l5.append(i)\n",
    "l4,l5"
   ]
  },
  {
   "cell_type": "code",
   "execution_count": null,
   "id": "da603885-7cc6-4f3e-adcb-dfa36612fe51",
   "metadata": {},
   "outputs": [],
   "source": []
  },
  {
   "cell_type": "code",
   "execution_count": null,
   "id": "3cb26173-e8d3-4539-b17e-b7fbd7a1af91",
   "metadata": {},
   "outputs": [],
   "source": []
  }
 ],
 "metadata": {
  "kernelspec": {
   "display_name": "Python 3 (ipykernel)",
   "language": "python",
   "name": "python3"
  },
  "language_info": {
   "codemirror_mode": {
    "name": "ipython",
    "version": 3
   },
   "file_extension": ".py",
   "mimetype": "text/x-python",
   "name": "python",
   "nbconvert_exporter": "python",
   "pygments_lexer": "ipython3",
   "version": "3.10.8"
  }
 },
 "nbformat": 4,
 "nbformat_minor": 5
}
